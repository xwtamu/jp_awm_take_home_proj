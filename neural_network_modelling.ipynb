{
 "cells": [
  {
   "cell_type": "code",
   "execution_count": 17,
   "id": "112fee01-1361-4beb-89ca-d9cc92c7a0b1",
   "metadata": {},
   "outputs": [],
   "source": [
    "import pandas as pd\n",
    "import numpy as np\n",
    "from sklearn.model_selection import train_test_split\n",
    "from sklearn.preprocessing import StandardScaler\n",
    "from sklearn.metrics import roc_auc_score, precision_recall_curve, f1_score, accuracy_score, precision_score, recall_score\n",
    "import torch\n",
    "import torch.nn as nn\n",
    "import torch.optim as optim\n",
    "from torch.utils.data import TensorDataset, DataLoader"
   ]
  },
  {
   "cell_type": "markdown",
   "id": "30a88375-ef14-4744-954d-0d76ff9f40f5",
   "metadata": {},
   "source": [
    "## 1. load the combined train + test and cleaned data"
   ]
  },
  {
   "cell_type": "code",
   "execution_count": 4,
   "id": "badd7caa-2fb1-4cbf-bbf7-ed6c79376726",
   "metadata": {},
   "outputs": [
    {
     "data": {
      "text/plain": [
       "(290628, 1333)"
      ]
     },
     "execution_count": 4,
     "metadata": {},
     "output_type": "execute_result"
    }
   ],
   "source": [
    "df = pd.read_hdf('C:/Users/xiaow/work/jp_awm/interview/Take Home Project/combined_train_test_cleaned.hdf5')\n",
    "df.shape"
   ]
  },
  {
   "cell_type": "markdown",
   "id": "5eccad8f-960f-4b26-baa8-7e773c93a26f",
   "metadata": {},
   "source": [
    "## 2. Build the Neuron Network Pipeline"
   ]
  },
  {
   "cell_type": "code",
   "execution_count": 28,
   "id": "95bf8280-6cf0-4faa-8cda-06dd5236726e",
   "metadata": {},
   "outputs": [],
   "source": [
    "def train_nn_pipeline(df, hidden_layers=[64], activation_fn=nn.ReLU, \n",
    "                      lr=0.001, batch_size=32, epochs=200, patience=10, \n",
    "                      train_indicator='train_indicator', target='bad_flag'):\n",
    "    \"\"\"\n",
    "    Train a neural network for binary classification with configurable architecture and activation.\n",
    "\n",
    "    Parameters:\n",
    "    -----------\n",
    "    df : DataFrame with combined train/test and train_indicator.\n",
    "    hidden_layers : list, neurons in each hidden layer. e.g. [64, 32]\n",
    "    activation_fn : torch activation class (e.g., nn.ReLU, nn.Sigmoid, nn.Tanh)\n",
    "    lr : learning rate\n",
    "    batch_size : batch size for training\n",
    "    epochs : maximum training epochs\n",
    "    patience : early stopping patience\n",
    "    train_indicator : column name indicating train/test split\n",
    "    target : dependent variable name\n",
    "\n",
    "    Returns:\n",
    "    --------\n",
    "    model : trained model\n",
    "    scaler : fitted scaler\n",
    "    best_threshold : tuned threshold for classification\n",
    "    val_auc : validation AUC\n",
    "    val_f1 : best validation F1\n",
    "    test_df : DataFrame with predictions for test set\n",
    "    \"\"\"\n",
    "\n",
    "    # ✅ Split train/test\n",
    "    train_df = df[df[train_indicator] == 1].copy()\n",
    "    test_df = df[df[train_indicator] == 0].copy()\n",
    "\n",
    "    X = train_df.drop(columns=[target, train_indicator])\n",
    "    y = train_df[target].astype(float)\n",
    "    X_test = test_df.drop(columns=[target, train_indicator])\n",
    "\n",
    "    # ✅ Train/val split\n",
    "    X_train, X_val, y_train, y_val = train_test_split(\n",
    "        X, y, test_size=0.2, random_state=42, stratify=y\n",
    "    )\n",
    "\n",
    "    # ✅ Scale features\n",
    "    scaler = StandardScaler()\n",
    "    X_train_scaled = scaler.fit_transform(X_train)\n",
    "    X_val_scaled = scaler.transform(X_val)\n",
    "    X_test_scaled = scaler.transform(X_test)\n",
    "\n",
    "    # ✅ Convert to tensors\n",
    "    X_train_tensor = torch.tensor(X_train_scaled, dtype=torch.float32)\n",
    "    y_train_tensor = torch.tensor(y_train.values, dtype=torch.float32).view(-1, 1)\n",
    "    X_val_tensor = torch.tensor(X_val_scaled, dtype=torch.float32)\n",
    "    y_val_tensor = torch.tensor(y_val.values, dtype=torch.float32).view(-1, 1)\n",
    "    X_test_tensor = torch.tensor(X_test_scaled, dtype=torch.float32)\n",
    "\n",
    "    # ✅ Compute class weight\n",
    "    pos_weight_value = (y_train == 0).sum() / (y_train == 1).sum()\n",
    "\n",
    "    # ✅ Dynamic Model Definition\n",
    "    class DynamicNN(nn.Module):\n",
    "        def __init__(self, input_dim, hidden_layers, activation_fn):\n",
    "            super(DynamicNN, self).__init__()\n",
    "            layers = []\n",
    "            prev_dim = input_dim\n",
    "            for h in hidden_layers:\n",
    "                layers.append(nn.Linear(prev_dim, h))\n",
    "                layers.append(activation_fn())\n",
    "                prev_dim = h\n",
    "            layers.append(nn.Linear(prev_dim, 1))\n",
    "            layers.append(nn.Sigmoid())  # Output for binary classification\n",
    "            self.net = nn.Sequential(*layers)\n",
    "\n",
    "        def forward(self, x):\n",
    "            return self.net(x)\n",
    "\n",
    "    input_dim = X_train_tensor.shape[1]\n",
    "    model = DynamicNN(input_dim=input_dim, hidden_layers=hidden_layers, activation_fn=activation_fn)\n",
    "\n",
    "    criterion = nn.BCELoss()\n",
    "    optimizer = optim.Adam(model.parameters(), lr=lr)\n",
    "\n",
    "    # ✅ Training loop with early stopping\n",
    "    train_dataset = TensorDataset(X_train_tensor, y_train_tensor)\n",
    "    train_loader = DataLoader(train_dataset, batch_size=batch_size, shuffle=True)\n",
    "\n",
    "    best_val_loss = np.inf\n",
    "    patience_counter = 0\n",
    "\n",
    "    for epoch in range(epochs):\n",
    "        model.train()\n",
    "        epoch_loss = 0.0\n",
    "\n",
    "        for batch_X, batch_y in train_loader:\n",
    "            optimizer.zero_grad()\n",
    "            outputs = model(batch_X).view(-1)\n",
    "            targets = batch_y.view(-1)\n",
    "            # Manual class weights\n",
    "            weights = torch.ones_like(targets)\n",
    "            weights[targets == 1] = pos_weight_value\n",
    "            loss = criterion(outputs, targets)\n",
    "            weighted_loss = (loss * weights).mean()\n",
    "            weighted_loss.backward()\n",
    "            optimizer.step()\n",
    "            epoch_loss += weighted_loss.item()\n",
    "\n",
    "        # Validation\n",
    "        model.eval()\n",
    "        with torch.no_grad():\n",
    "            val_probs = model(X_val_tensor).view(-1).numpy()\n",
    "            val_loss = criterion(torch.tensor(val_probs), y_val_tensor.view(-1)).item()\n",
    "\n",
    "        if val_loss < best_val_loss:\n",
    "            best_val_loss = val_loss\n",
    "            best_state = model.state_dict()\n",
    "            patience_counter = 0\n",
    "        else:\n",
    "            patience_counter += 1\n",
    "            if patience_counter >= patience:\n",
    "                print(f\"Early stopping at epoch {epoch+1}\")\n",
    "                break\n",
    "\n",
    "    model.load_state_dict(best_state)\n",
    "\n",
    "    # ✅ Metrics & threshold tuning\n",
    "    model.eval()\n",
    "    with torch.no_grad():\n",
    "        val_probs = model(X_val_tensor).view(-1).numpy()\n",
    "\n",
    "    val_auc = roc_auc_score(y_val, val_probs)\n",
    "    precisions, recalls, thresholds = precision_recall_curve(y_val, val_probs)\n",
    "    f1_scores = 2 * (precisions * recalls) / (precisions + recalls + 1e-8)\n",
    "    best_idx = np.argmax(f1_scores)\n",
    "    best_threshold = thresholds[best_idx]\n",
    "    val_f1 = f1_scores[best_idx]\n",
    "\n",
    "    print(f\"Validation AUC: {val_auc:.4f} | Best F1: {val_f1:.4f} | Threshold: {best_threshold:.4f}\")\n",
    "\n",
    "    # ✅ Test predictions\n",
    "    with torch.no_grad():\n",
    "        test_probs = model(X_test_tensor).view(-1).numpy()\n",
    "        test_preds = (test_probs > best_threshold).astype(int)\n",
    "\n",
    "    test_df['bad_flag_pred_prob'] = test_probs\n",
    "    test_df['bad_flag_pred'] = test_preds\n",
    "\n",
    "    # ✅ Print class distributions\n",
    "    train_bad_pct = (y_train.sum() / len(y_train)) * 100\n",
    "    test_bad_pct = (test_df['bad_flag_pred'].sum() / len(test_df)) * 100\n",
    "    print(f\"Train bad_flag=1: {train_bad_pct:.2f}% | Predicted Test bad_flag=1: {test_bad_pct:.2f}%\")\n",
    "\n",
    "    return model, scaler, best_threshold, val_auc, val_f1, test_df"
   ]
  },
  {
   "cell_type": "markdown",
   "id": "3502f292-d648-478e-8ea3-fcd9671d8bca",
   "metadata": {},
   "source": [
    "## Model 1. One layer, [64], activation=Sigmoid, Validation AUC: 0.6542 | Best F1: 0.2056 | Pred test bad_flag=1: 16.82%"
   ]
  },
  {
   "cell_type": "code",
   "execution_count": 29,
   "id": "8d7bb3f5-9456-4774-b6d8-5375f8c69e5a",
   "metadata": {},
   "outputs": [
    {
     "name": "stdout",
     "output_type": "stream",
     "text": [
      "Early stopping at epoch 11\n",
      "Validation AUC: 0.6542 | Best F1: 0.2056 | Threshold: 0.1047\n",
      "Train bad_flag=1: 6.98% | Predicted Test bad_flag=1: 16.82%\n"
     ]
    }
   ],
   "source": [
    "model, scaler, thr, auc, f1, test_preds = train_nn_pipeline(\n",
    "    df=df,\n",
    "    hidden_layers=[64],         # ✅ One layer with 64 neurons\n",
    "    activation_fn=nn.Sigmoid,   # Hidden layer activation\n",
    "    lr=0.001,\n",
    "    batch_size=32,\n",
    "    epochs=100,\n",
    "    patience=10\n",
    ")"
   ]
  },
  {
   "cell_type": "code",
   "execution_count": 32,
   "id": "e1bb10d5-2731-4e51-b140-45b5949e154f",
   "metadata": {},
   "outputs": [],
   "source": [
    "test_preds.to_hdf('C:/Users/xiaow/work/jp_awm/interview/Take Home Project/test_result_64_sigmoid.hdf5', key='data')"
   ]
  },
  {
   "cell_type": "markdown",
   "id": "c04d203c-2ebb-4d5c-bc6d-5d2a8a20e07c",
   "metadata": {},
   "source": [
    "## Model 2. One layer, [64], activation=ReLU, Validation AUC: 0.6349 | Best F1: 0.1921 | Pred test bad_flag=1: 22.35%"
   ]
  },
  {
   "cell_type": "code",
   "execution_count": 33,
   "id": "11f78a2a-6296-4e29-98d0-8a713dd34c76",
   "metadata": {},
   "outputs": [
    {
     "name": "stdout",
     "output_type": "stream",
     "text": [
      "Early stopping at epoch 11\n",
      "Validation AUC: 0.6349 | Best F1: 0.1921 | Threshold: 0.1081\n",
      "Train bad_flag=1: 6.98% | Predicted Test bad_flag=1: 22.35%\n"
     ]
    }
   ],
   "source": [
    "model, scaler, thr, auc, f1, test_preds = train_nn_pipeline(\n",
    "    df=df,\n",
    "    hidden_layers=[64],         # ✅ One layer with 64 neurons\n",
    "    activation_fn=nn.ReLU,   # Hidden layer activation\n",
    "    lr=0.001,\n",
    "    batch_size=32,\n",
    "    epochs=100,\n",
    "    patience=10\n",
    ")"
   ]
  },
  {
   "cell_type": "code",
   "execution_count": 34,
   "id": "e33a56c6-50e5-4ec1-bfe3-3652fbd34601",
   "metadata": {},
   "outputs": [],
   "source": [
    "test_preds.to_hdf('C:/Users/xiaow/work/jp_awm/interview/Take Home Project/test_result_64_relu.hdf5', key='data')"
   ]
  },
  {
   "cell_type": "markdown",
   "id": "c58f63ff-9180-4bc8-b298-0899c6b7b919",
   "metadata": {},
   "source": [
    "## Model 3. 3 layer, [128, 64, 32], activation=Sigmoid, Validation AUC: 0.591 | Best F1: 0.1831 | Pred test bad_flag=1: 14.08%"
   ]
  },
  {
   "cell_type": "code",
   "execution_count": 41,
   "id": "50b278cb-5d8a-4729-a1d8-47c6867856ca",
   "metadata": {},
   "outputs": [
    {
     "name": "stdout",
     "output_type": "stream",
     "text": [
      "Early stopping at epoch 12\n",
      "Validation AUC: 0.5910 | Best F1: 0.1831 | Threshold: 0.1015\n",
      "Train bad_flag=1: 6.98% | Predicted Test bad_flag=1: 14.08%\n"
     ]
    }
   ],
   "source": [
    "model, scaler, thr, auc, f1, test_preds = train_nn_pipeline(\n",
    "    df=df,\n",
    "    hidden_layers=[128, 64, 32],         # ✅ One layer with 64 neurons\n",
    "    activation_fn=nn.Sigmoid,   # Hidden layer activation\n",
    "    lr=0.001,\n",
    "    batch_size=32,\n",
    "    epochs=100,\n",
    "    patience=10\n",
    ")"
   ]
  },
  {
   "cell_type": "code",
   "execution_count": 42,
   "id": "6ae688e4-4a73-413e-af8b-674082f58c9e",
   "metadata": {},
   "outputs": [],
   "source": [
    "test_preds.to_hdf('C:/Users/xiaow/work/jp_awm/interview/Take Home Project/test_result_128_64_32_sigmoid.hdf5', key='data')"
   ]
  },
  {
   "cell_type": "markdown",
   "id": "2b6e0a39-c806-4f91-bb1e-38dba9fb61cf",
   "metadata": {},
   "source": [
    "## Model 4. 2 layer, [128, 64], activation=Sigmoid, Validation AUC: 0.6049 | Best F1: 0.1914 | Pred test bad_flag=1: 17.41%"
   ]
  },
  {
   "cell_type": "code",
   "execution_count": 37,
   "id": "b22be7bd-5039-42b1-9b2d-7a564755ea2f",
   "metadata": {},
   "outputs": [
    {
     "name": "stdout",
     "output_type": "stream",
     "text": [
      "Early stopping at epoch 12\n",
      "Validation AUC: 0.6049 | Best F1: 0.1914 | Threshold: 0.1116\n",
      "Train bad_flag=1: 6.98% | Predicted Test bad_flag=1: 17.41%\n"
     ]
    }
   ],
   "source": [
    "model, scaler, thr, auc, f1, test_preds = train_nn_pipeline(\n",
    "    df=df,\n",
    "    hidden_layers=[128, 64],         # ✅ One layer with 64 neurons\n",
    "    activation_fn=nn.Sigmoid,   # Hidden layer activation\n",
    "    lr=0.001,\n",
    "    batch_size=32,\n",
    "    epochs=100,\n",
    "    patience=10\n",
    ")"
   ]
  },
  {
   "cell_type": "code",
   "execution_count": 38,
   "id": "ceba1b99-33b2-4cf7-af3f-14ef43748648",
   "metadata": {},
   "outputs": [],
   "source": [
    "test_preds.to_hdf('C:/Users/xiaow/work/jp_awm/interview/Take Home Project/test_result_128_64_sigmoid.hdf5', key='data')"
   ]
  },
  {
   "cell_type": "markdown",
   "id": "135d3252-da0c-42c2-b4d4-a3b78b184c3e",
   "metadata": {},
   "source": [
    "## Model 5. One layer, [32], activation=Sigmoid, Validation AUC: 0.6536 | Best F1: 0.1999 | Pred test bad_flag=1: 12.95%"
   ]
  },
  {
   "cell_type": "code",
   "execution_count": 43,
   "id": "33dedb84-2583-4959-aea4-89954e171977",
   "metadata": {},
   "outputs": [
    {
     "name": "stdout",
     "output_type": "stream",
     "text": [
      "Early stopping at epoch 12\n",
      "Validation AUC: 0.6536 | Best F1: 0.1999 | Threshold: 0.1280\n",
      "Train bad_flag=1: 6.98% | Predicted Test bad_flag=1: 12.95%\n"
     ]
    }
   ],
   "source": [
    "model, scaler, thr, auc, f1, test_preds = train_nn_pipeline(\n",
    "    df=df,\n",
    "    hidden_layers=[32],         # ✅ One layer with 64 neurons\n",
    "    activation_fn=nn.Sigmoid,   # Hidden layer activation\n",
    "    lr=0.001,\n",
    "    batch_size=32,\n",
    "    epochs=100,\n",
    "    patience=10\n",
    ")"
   ]
  },
  {
   "cell_type": "code",
   "execution_count": 44,
   "id": "aa9fae8a-f455-467e-904f-e3cd7c872065",
   "metadata": {},
   "outputs": [],
   "source": [
    "test_preds.to_hdf('C:/Users/xiaow/work/jp_awm/interview/Take Home Project/test_result_32_sigmoid.hdf5', key='data')"
   ]
  },
  {
   "cell_type": "markdown",
   "id": "56a8a23e-77a4-40e0-ae69-779500a234a3",
   "metadata": {},
   "source": [
    "### Model 6. One layer, [16], activation=Sigmoid, Validation AUC: 0.6753 | Best F1: 0.2141 | Pred test bad_flag=1: 10.51%"
   ]
  },
  {
   "cell_type": "code",
   "execution_count": 45,
   "id": "e26dfb5d-4dce-462c-9874-1dfaa69e54a9",
   "metadata": {},
   "outputs": [
    {
     "name": "stdout",
     "output_type": "stream",
     "text": [
      "Early stopping at epoch 11\n",
      "Validation AUC: 0.6753 | Best F1: 0.2141 | Threshold: 0.1402\n",
      "Train bad_flag=1: 6.98% | Predicted Test bad_flag=1: 10.51%\n"
     ]
    }
   ],
   "source": [
    "model, scaler, thr, auc, f1, test_preds = train_nn_pipeline(\n",
    "    df=df,\n",
    "    hidden_layers=[16],         # ✅ One layer with 64 neurons\n",
    "    activation_fn=nn.Sigmoid,   # Hidden layer activation\n",
    "    lr=0.001,\n",
    "    batch_size=32,\n",
    "    epochs=100,\n",
    "    patience=10\n",
    ")"
   ]
  },
  {
   "cell_type": "code",
   "execution_count": 46,
   "id": "b03c2f72-528d-43f5-9526-b3b0dff3a719",
   "metadata": {},
   "outputs": [],
   "source": [
    "test_preds.to_hdf('C:/Users/xiaow/work/jp_awm/interview/Take Home Project/test_result_16_sigmoid.hdf5', key='data')"
   ]
  },
  {
   "cell_type": "markdown",
   "id": "2055e01c-9a59-44b6-acf3-192177f5f97f",
   "metadata": {},
   "source": [
    "### Model 7. One layer, [8], activation=Sigmoid, Validation AUC: 0.6844 | Best F1: 0.2179 | Pred test bad_flag=1: 8.12%"
   ]
  },
  {
   "cell_type": "code",
   "execution_count": 47,
   "id": "d245ed8e-4b1e-446c-ad16-6f0c634f8077",
   "metadata": {},
   "outputs": [
    {
     "name": "stdout",
     "output_type": "stream",
     "text": [
      "Early stopping at epoch 11\n",
      "Validation AUC: 0.6844 | Best F1: 0.2179 | Threshold: 0.1408\n",
      "Train bad_flag=1: 6.98% | Predicted Test bad_flag=1: 8.12%\n"
     ]
    }
   ],
   "source": [
    "model, scaler, thr, auc, f1, test_preds = train_nn_pipeline(\n",
    "    df=df,\n",
    "    hidden_layers=[8],         # ✅ One layer with 64 neurons\n",
    "    activation_fn=nn.Sigmoid,   # Hidden layer activation\n",
    "    lr=0.001,\n",
    "    batch_size=32,\n",
    "    epochs=100,\n",
    "    patience=10\n",
    ")"
   ]
  },
  {
   "cell_type": "code",
   "execution_count": 48,
   "id": "8fae1b57-837c-49b2-8d3e-1a19df8b59af",
   "metadata": {},
   "outputs": [],
   "source": [
    "test_preds.to_hdf('C:/Users/xiaow/work/jp_awm/interview/Take Home Project/test_result_8_sigmoid.hdf5', key='data')"
   ]
  },
  {
   "cell_type": "markdown",
   "id": "6d57d7f1-a0bf-4d4e-9824-0839c44888ad",
   "metadata": {},
   "source": [
    "### Model 8. One layer, [4], activation=Sigmoid, Validation AUC: 0.6786 | Best F1: 0.2114 | Pred test bad_flag=1: 7.21%"
   ]
  },
  {
   "cell_type": "code",
   "execution_count": 49,
   "id": "fa4edeb7-36ce-49a6-a73d-b184c93b6bae",
   "metadata": {},
   "outputs": [
    {
     "name": "stdout",
     "output_type": "stream",
     "text": [
      "Early stopping at epoch 11\n",
      "Validation AUC: 0.6786 | Best F1: 0.2114 | Threshold: 0.1456\n",
      "Train bad_flag=1: 6.98% | Predicted Test bad_flag=1: 7.21%\n"
     ]
    }
   ],
   "source": [
    "model, scaler, thr, auc, f1, test_preds = train_nn_pipeline(\n",
    "    df=df,\n",
    "    hidden_layers=[4],         # ✅ One layer with 64 neurons\n",
    "    activation_fn=nn.Sigmoid,   # Hidden layer activation\n",
    "    lr=0.001,\n",
    "    batch_size=32,\n",
    "    epochs=100,\n",
    "    patience=10\n",
    ")"
   ]
  },
  {
   "cell_type": "code",
   "execution_count": 50,
   "id": "c709c7ac-ddec-44a3-8da6-ec4950dcb8d0",
   "metadata": {},
   "outputs": [],
   "source": [
    "test_preds.to_hdf('C:/Users/xiaow/work/jp_awm/interview/Take Home Project/test_result_4_sigmoid.hdf5', key='data')"
   ]
  },
  {
   "cell_type": "code",
   "execution_count": null,
   "id": "559805e4-65fc-4ea0-89eb-d7c824b68ac5",
   "metadata": {},
   "outputs": [],
   "source": []
  },
  {
   "cell_type": "markdown",
   "id": "2f6f2077-33d3-454f-a6b0-efc9cc8f51b9",
   "metadata": {},
   "source": [
    "## Choose the winner model and dump only the predicted value and combine with the test id"
   ]
  },
  {
   "cell_type": "code",
   "execution_count": 51,
   "id": "892bd367-7474-4f19-ba83-fc2edb5607b4",
   "metadata": {},
   "outputs": [],
   "source": [
    "## winner is Model 7, i.e., one layer with 8 neurons and activation function is sigmoid"
   ]
  },
  {
   "cell_type": "code",
   "execution_count": 52,
   "id": "24019918-455e-4fad-afa5-bbc85de7963e",
   "metadata": {},
   "outputs": [
    {
     "data": {
      "text/plain": [
       "(102505, 1335)"
      ]
     },
     "execution_count": 52,
     "metadata": {},
     "output_type": "execute_result"
    }
   ],
   "source": [
    "winner_pred = pd.read_hdf('C:/Users/xiaow/work/jp_awm/interview/Take Home Project/test_result_8_sigmoid.hdf5')\n",
    "winner_pred.shape"
   ]
  },
  {
   "cell_type": "code",
   "execution_count": 53,
   "id": "beb50c25-24c8-448c-91dd-0d3b5aaa8e77",
   "metadata": {},
   "outputs": [
    {
     "name": "stderr",
     "output_type": "stream",
     "text": [
      "C:\\Users\\xiaow\\AppData\\Local\\Temp\\ipykernel_21796\\413015491.py:1: DtypeWarning: Columns (8) have mixed types. Specify dtype option on import or set low_memory=False.\n",
      "  test_df = pd.read_csv('C:/Users/xiaow/work/jp_awm/interview/Take Home Project/testing_loan_data.csv')\n"
     ]
    },
    {
     "data": {
      "text/plain": [
       "(102505, 23)"
      ]
     },
     "execution_count": 53,
     "metadata": {},
     "output_type": "execute_result"
    }
   ],
   "source": [
    "test_df = pd.read_csv('C:/Users/xiaow/work/jp_awm/interview/Take Home Project/testing_loan_data.csv')\n",
    "test_df.shape"
   ]
  },
  {
   "cell_type": "code",
   "execution_count": 55,
   "id": "adf06764-3649-4f57-8e27-8088b6fc2c67",
   "metadata": {},
   "outputs": [
    {
     "data": {
      "text/html": [
       "<div>\n",
       "<style scoped>\n",
       "    .dataframe tbody tr th:only-of-type {\n",
       "        vertical-align: middle;\n",
       "    }\n",
       "\n",
       "    .dataframe tbody tr th {\n",
       "        vertical-align: top;\n",
       "    }\n",
       "\n",
       "    .dataframe thead th {\n",
       "        text-align: right;\n",
       "    }\n",
       "</style>\n",
       "<table border=\"1\" class=\"dataframe\">\n",
       "  <thead>\n",
       "    <tr style=\"text-align: right;\">\n",
       "      <th></th>\n",
       "      <th>id</th>\n",
       "      <th>member_id</th>\n",
       "      <th>loan_amnt</th>\n",
       "      <th>term</th>\n",
       "      <th>int_rate</th>\n",
       "      <th>emp_length</th>\n",
       "      <th>home_ownership</th>\n",
       "      <th>annual_inc</th>\n",
       "      <th>desc</th>\n",
       "      <th>purpose</th>\n",
       "      <th>...</th>\n",
       "      <th>inq_last_6mths</th>\n",
       "      <th>mths_since_recent_inq</th>\n",
       "      <th>revol_util</th>\n",
       "      <th>total_bc_limit</th>\n",
       "      <th>mths_since_last_major_derog</th>\n",
       "      <th>tot_hi_cred_lim</th>\n",
       "      <th>tot_cur_bal</th>\n",
       "      <th>application_approved_flag</th>\n",
       "      <th>internal_score</th>\n",
       "      <th>bad_flag</th>\n",
       "    </tr>\n",
       "  </thead>\n",
       "  <tbody>\n",
       "    <tr>\n",
       "      <th>0</th>\n",
       "      <td>20000001</td>\n",
       "      <td>22419852</td>\n",
       "      <td>10000</td>\n",
       "      <td>36 months</td>\n",
       "      <td>22.15%</td>\n",
       "      <td>8 years</td>\n",
       "      <td>RENT</td>\n",
       "      <td>37000.0</td>\n",
       "      <td>NaN</td>\n",
       "      <td>debt_consolidation</td>\n",
       "      <td>...</td>\n",
       "      <td>1</td>\n",
       "      <td>3.0</td>\n",
       "      <td>73.10%</td>\n",
       "      <td>16200</td>\n",
       "      <td>NaN</td>\n",
       "      <td>14877.170280</td>\n",
       "      <td>36809</td>\n",
       "      <td>1</td>\n",
       "      <td>131</td>\n",
       "      <td>NaN</td>\n",
       "    </tr>\n",
       "    <tr>\n",
       "      <th>1</th>\n",
       "      <td>20000002</td>\n",
       "      <td>22349118</td>\n",
       "      <td>1400</td>\n",
       "      <td>36 months</td>\n",
       "      <td>18.24%</td>\n",
       "      <td>6 years</td>\n",
       "      <td>RENT</td>\n",
       "      <td>41000.0</td>\n",
       "      <td>NaN</td>\n",
       "      <td>other</td>\n",
       "      <td>...</td>\n",
       "      <td>0</td>\n",
       "      <td>9.0</td>\n",
       "      <td>11.50%</td>\n",
       "      <td>4000</td>\n",
       "      <td>NaN</td>\n",
       "      <td>4097.304770</td>\n",
       "      <td>19536</td>\n",
       "      <td>1</td>\n",
       "      <td>19</td>\n",
       "      <td>NaN</td>\n",
       "    </tr>\n",
       "    <tr>\n",
       "      <th>2</th>\n",
       "      <td>20000003</td>\n",
       "      <td>22398818</td>\n",
       "      <td>7000</td>\n",
       "      <td>36 months</td>\n",
       "      <td>12.49%</td>\n",
       "      <td>3 years</td>\n",
       "      <td>RENT</td>\n",
       "      <td>68900.0</td>\n",
       "      <td>NaN</td>\n",
       "      <td>debt_consolidation</td>\n",
       "      <td>...</td>\n",
       "      <td>0</td>\n",
       "      <td>11.0</td>\n",
       "      <td>48.10%</td>\n",
       "      <td>11900</td>\n",
       "      <td>80.0</td>\n",
       "      <td>12688.495160</td>\n",
       "      <td>241465</td>\n",
       "      <td>1</td>\n",
       "      <td>92</td>\n",
       "      <td>NaN</td>\n",
       "    </tr>\n",
       "    <tr>\n",
       "      <th>3</th>\n",
       "      <td>20000004</td>\n",
       "      <td>22419015</td>\n",
       "      <td>18000</td>\n",
       "      <td>60 months</td>\n",
       "      <td>16.29%</td>\n",
       "      <td>9 years</td>\n",
       "      <td>MORTGAGE</td>\n",
       "      <td>41000.0</td>\n",
       "      <td>NaN</td>\n",
       "      <td>debt_consolidation</td>\n",
       "      <td>...</td>\n",
       "      <td>1</td>\n",
       "      <td>0.0</td>\n",
       "      <td>38.10%</td>\n",
       "      <td>7600</td>\n",
       "      <td>73.0</td>\n",
       "      <td>7908.799817</td>\n",
       "      <td>179757</td>\n",
       "      <td>1</td>\n",
       "      <td>235</td>\n",
       "      <td>NaN</td>\n",
       "    </tr>\n",
       "    <tr>\n",
       "      <th>4</th>\n",
       "      <td>20000005</td>\n",
       "      <td>22388614</td>\n",
       "      <td>12000</td>\n",
       "      <td>36 months</td>\n",
       "      <td>12.99%</td>\n",
       "      <td>10+ years</td>\n",
       "      <td>MORTGAGE</td>\n",
       "      <td>64000.0</td>\n",
       "      <td>NaN</td>\n",
       "      <td>home_improvement</td>\n",
       "      <td>...</td>\n",
       "      <td>0</td>\n",
       "      <td>NaN</td>\n",
       "      <td>57.90%</td>\n",
       "      <td>21000</td>\n",
       "      <td>NaN</td>\n",
       "      <td>19378.561060</td>\n",
       "      <td>31953</td>\n",
       "      <td>1</td>\n",
       "      <td>157</td>\n",
       "      <td>NaN</td>\n",
       "    </tr>\n",
       "  </tbody>\n",
       "</table>\n",
       "<p>5 rows × 23 columns</p>\n",
       "</div>"
      ],
      "text/plain": [
       "         id  member_id  loan_amnt        term int_rate emp_length  \\\n",
       "0  20000001   22419852      10000   36 months   22.15%    8 years   \n",
       "1  20000002   22349118       1400   36 months   18.24%    6 years   \n",
       "2  20000003   22398818       7000   36 months   12.49%    3 years   \n",
       "3  20000004   22419015      18000   60 months   16.29%    9 years   \n",
       "4  20000005   22388614      12000   36 months   12.99%  10+ years   \n",
       "\n",
       "  home_ownership  annual_inc desc             purpose  ...  inq_last_6mths  \\\n",
       "0           RENT     37000.0  NaN  debt_consolidation  ...               1   \n",
       "1           RENT     41000.0  NaN               other  ...               0   \n",
       "2           RENT     68900.0  NaN  debt_consolidation  ...               0   \n",
       "3       MORTGAGE     41000.0  NaN  debt_consolidation  ...               1   \n",
       "4       MORTGAGE     64000.0  NaN    home_improvement  ...               0   \n",
       "\n",
       "   mths_since_recent_inq  revol_util  total_bc_limit  \\\n",
       "0                    3.0      73.10%           16200   \n",
       "1                    9.0      11.50%            4000   \n",
       "2                   11.0      48.10%           11900   \n",
       "3                    0.0      38.10%            7600   \n",
       "4                    NaN      57.90%           21000   \n",
       "\n",
       "   mths_since_last_major_derog tot_hi_cred_lim  tot_cur_bal  \\\n",
       "0                          NaN    14877.170280        36809   \n",
       "1                          NaN     4097.304770        19536   \n",
       "2                         80.0    12688.495160       241465   \n",
       "3                         73.0     7908.799817       179757   \n",
       "4                          NaN    19378.561060        31953   \n",
       "\n",
       "   application_approved_flag  internal_score  bad_flag  \n",
       "0                          1             131       NaN  \n",
       "1                          1              19       NaN  \n",
       "2                          1              92       NaN  \n",
       "3                          1             235       NaN  \n",
       "4                          1             157       NaN  \n",
       "\n",
       "[5 rows x 23 columns]"
      ]
     },
     "execution_count": 55,
     "metadata": {},
     "output_type": "execute_result"
    }
   ],
   "source": [
    "test_df.head()"
   ]
  },
  {
   "cell_type": "code",
   "execution_count": 64,
   "id": "36de0bdb-2e1f-47d7-b7d2-eb6ff1a45f81",
   "metadata": {},
   "outputs": [
    {
     "name": "stdout",
     "output_type": "stream",
     "text": [
      "(102505, 3)\n"
     ]
    },
    {
     "data": {
      "text/plain": [
       "bad_flag_pred\n",
       "0    94183\n",
       "1     8322\n",
       "Name: count, dtype: int64"
      ]
     },
     "execution_count": 64,
     "metadata": {},
     "output_type": "execute_result"
    }
   ],
   "source": [
    "aa = winner_pred.copy()\n",
    "bb = test_df.copy()\n",
    "aa.index = range(len(aa))\n",
    "bb.index = range(len(bb))\n",
    "cc = bb.loc[:, ['id', 'member_id']].copy()\n",
    "cc['bad_flag_pred'] = aa['bad_flag_pred'].values\n",
    "print(cc.shape)\n",
    "cc['bad_flag_pred'].value_counts()"
   ]
  },
  {
   "cell_type": "code",
   "execution_count": 68,
   "id": "0a30a9e8-e449-4f47-9c46-f1fa08844ade",
   "metadata": {},
   "outputs": [],
   "source": [
    "cc.to_csv('C:/Users/xiaow/work/jp_awm/interview/Take Home Project/final_test_output_to_submit.csv', index=False)"
   ]
  },
  {
   "cell_type": "code",
   "execution_count": null,
   "id": "3ecc7555-3e1f-4753-9241-b56429ed19f5",
   "metadata": {},
   "outputs": [],
   "source": []
  },
  {
   "cell_type": "code",
   "execution_count": null,
   "id": "92c538d4-8844-49b2-b4c7-5658a764a5ae",
   "metadata": {},
   "outputs": [],
   "source": []
  }
 ],
 "metadata": {
  "kernelspec": {
   "display_name": "Python [conda env:base] *",
   "language": "python",
   "name": "conda-base-py"
  },
  "language_info": {
   "codemirror_mode": {
    "name": "ipython",
    "version": 3
   },
   "file_extension": ".py",
   "mimetype": "text/x-python",
   "name": "python",
   "nbconvert_exporter": "python",
   "pygments_lexer": "ipython3",
   "version": "3.12.7"
  }
 },
 "nbformat": 4,
 "nbformat_minor": 5
}
